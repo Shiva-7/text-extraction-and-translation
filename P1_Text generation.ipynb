{
 "cells": [
  {
   "cell_type": "markdown",
   "metadata": {},
   "source": [
    "# To write a function to extract the text and translate it to English\n",
    "Problem statment NUM : 4 "
   ]
  },
  {
   "cell_type": "markdown",
   "metadata": {},
   "source": [
    "# First ill show my approach to it and at the end you ll have a final funtion defined to extract."
   ]
  },
  {
   "cell_type": "code",
   "execution_count": 1,
   "metadata": {},
   "outputs": [],
   "source": [
    "#Here we import all the necessary libraries\n",
    "#cv2(Open cv) it is a library in python used to solve problems related to Computer vision\n",
    "#pytesseract is an Optical Character Recognition(OCR) tool for Python\n",
    "#used to recognizes and read the text contents embedded in an image\n",
    "import cv2\n",
    "import pytesseract\n",
    "from pytesseract import image_to_string"
   ]
  },
  {
   "cell_type": "code",
   "execution_count": 2,
   "metadata": {},
   "outputs": [],
   "source": [
    "#passing the image to a variable named image using cv2.read\n",
    "image = cv2.imread(\"C:/Users/shiva/python programs/Basic projects/Thirdleap/Assignment/4.jpg\")"
   ]
  },
  {
   "cell_type": "code",
   "execution_count": 3,
   "metadata": {},
   "outputs": [
    {
     "name": "stdout",
     "output_type": "stream",
     "text": [
      "(510, 920, 3)\n"
     ]
    }
   ],
   "source": [
    "print(image.shape)"
   ]
  },
  {
   "cell_type": "code",
   "execution_count": 4,
   "metadata": {},
   "outputs": [],
   "source": [
    "text = pytesseract.image_to_string(image,lang='hin') #passing the text extracted by using pytesseract.image_to_string(lang=hin)\n",
    "                                                     #as by seeing the image we get to know that the langugae on it is hindi\n",
    "                                                     #so we use the specification as 'hin' and store it to variable name text "
   ]
  },
  {
   "cell_type": "code",
   "execution_count": 5,
   "metadata": {},
   "outputs": [
    {
     "name": "stdout",
     "output_type": "stream",
     "text": [
      "The extracted original text is:\n",
      "\n",
      " ऑरिजिनल काँपी\n",
      "\n",
      "ळङाए। : १०००भ०र&रू क्वा\n",
      "सकरूपमल पदमचन्द #8××ॐॐ84\n",
      "धान मंडी नागौर (राज) 34!00। क्ताडा :वुडा\n",
      "\n",
      "राज\n",
      "\n",
      "टैलीफोन न:: 0582-240204\n",
      "\n",
      "सोलम्बर: 94742-40204 60\n",
      "\n",
      "विल न. १ <ङा-2559. . दिनांक : ०२०२२०५७ प्लेस ऑफ्र सप्लाई: ९%०जतत्मा (08)\n",
      "#० साकाकियिरण भमातर आगज लिलयूर एनश वसामूल सजज उतण क् ए)\n",
      "2, स्नि म०ङ 490 8७ समता वास स्वमतत: सस स सता\n",
      "\n",
      "म्हाषेग . र स०७\n",
      "\n",
      "2७ जासयायगरमाततततबभजानत/राजा&ट009000यगनयामजगनमशजर\n",
      "\n",
      "09686 व97) 078 प१०0७5भ 509९7 ॥9900@0 79070 00\n",
      "वास्ते सकरूपमल पदमचन्द\n",
      "\n",
      "पराप्तकर्ता के हस्ताक्षर\n",
      "अधिकृत हस्ताक्षर\n"
     ]
    }
   ],
   "source": [
    "print(\"The extracted original text is:\\n\\n\",text)"
   ]
  },
  {
   "cell_type": "code",
   "execution_count": 6,
   "metadata": {},
   "outputs": [],
   "source": [
    "#so far we have extrated the original text now its time to translate it using googletrans\n",
    "#it is an library in python used to translate the text in required languages provided in it\n",
    "\n",
    "from googletrans import Translator"
   ]
  },
  {
   "cell_type": "code",
   "execution_count": 7,
   "metadata": {},
   "outputs": [],
   "source": [
    "#object creation of Translator and using it to translate the extraced text\n",
    "translator = Translator().translate(text,dest='en')"
   ]
  },
  {
   "cell_type": "code",
   "execution_count": 8,
   "metadata": {},
   "outputs": [
    {
     "name": "stdout",
     "output_type": "stream",
     "text": [
      "The translated text is:\n",
      "\n",
      " Translated(src=hi, dest=en, text=Original Kapi\n",
      "\n",
      "Ladaaa. 1000 BG 0 R & Rs Kwa\n",
      "Skrupml Pdmchand # 8 ×× 84\n",
      "Paddy market Nagaur (Raj) 34! 00. Ktada: Vuda\n",
      "\n",
      "secret\n",
      "\n",
      "Tel no :: 0582-240204\n",
      "\n",
      "Solmber: 94742-40204 60\n",
      "\n",
      "Will not. 1 <Daa -2559. . Date: 02022057 Place Ofr supply: 9% 0 Jttma (08)\n",
      "# 0 Sakakiyirn Bmatr Agaj Lilur Ans Vsamul Sjj Utn of A)\n",
      "2, Sni in 0 E 490 87 parity habitat Swmtt: nagging SS Number\n",
      "\n",
      "Mhaseg. R S 07\n",
      "\n",
      "27 Jasyaygrmattttbbjant / King & T 009 000 Ygnyamjagnmsjr\n",
      "\n",
      "09 686 and 97) 078 W 10075 RT 509 9 7 0.9900 @ 0 79070 00\n",
      "In order Skrupml Pdmchand\n",
      "\n",
      "Signature Praptkrta\n",
      "Authorized Signature, pronunciation=None, extra_data=\"{'translat...\")\n"
     ]
    }
   ],
   "source": [
    "print(\"The translated text is:\\n\\n\",translator)"
   ]
  },
  {
   "cell_type": "code",
   "execution_count": 9,
   "metadata": {},
   "outputs": [
    {
     "name": "stdout",
     "output_type": "stream",
     "text": [
      "Original Kapi\n",
      "\n",
      "Ladaaa. 1000 BG 0 R & Rs Kwa\n",
      "Skrupml Pdmchand # 8 ×× 84\n",
      "Paddy market Nagaur (Raj) 34! 00. Ktada: Vuda\n",
      "\n",
      "secret\n",
      "\n",
      "Tel no :: 0582-240204\n",
      "\n",
      "Solmber: 94742-40204 60\n",
      "\n",
      "Will not. 1 <Daa -2559. .Date: 02022057 Place Ofr supply: 9% 0 Jttma (08)\n",
      "# 0 Sakakiyirn Bmatr Agaj Lilur Ans Vsamul Sjj Utn of A)\n",
      "2, Sni in 0 E 490 87 parity habitat Swmtt: nagging SS Number\n",
      "\n",
      "Mhaseg.And C 07\n",
      "\n",
      "27 jasayayagaramatatatatababhajanata / King & t 009000 yaganayamajaganamasajara\n",
      "\n",
      "09686 and 97) 078 509 9 7 9900 @ rt PA 10075 0 79070 00\n",
      "Sakarupamala for padamacanda\n",
      "\n",
      "Paraptakarta signature\n",
      "authorized signature\n"
     ]
    }
   ],
   "source": [
    "#THERE IS ALSO AN OTHER LIBRARY IN PYTHON AS GOSLATE IT IS A PYTHON API TO GOOGLE TRANSLATION SERVICE\n",
    "#just tried it so see if its giving any better results \n",
    "\n",
    "\n",
    "import goslate\n",
    "gs = goslate.Goslate()\n",
    "ftxt = gs.translate(text,'en')\n",
    "print(ftxt)\n",
    "#print(('\\033[1m'+\"hello\"),ftxt)"
   ]
  },
  {
   "cell_type": "code",
   "execution_count": 12,
   "metadata": {},
   "outputs": [],
   "source": [
    "#by using this i dint find much difference so both works almost the same way "
   ]
  },
  {
   "cell_type": "code",
   "execution_count": null,
   "metadata": {},
   "outputs": [],
   "source": []
  },
  {
   "cell_type": "markdown",
   "metadata": {},
   "source": [
    "# *So till now have shown you by approach and down here i have defined the final Function which can used here i choose googletrans library for translation "
   ]
  },
  {
   "cell_type": "code",
   "execution_count": 10,
   "metadata": {},
   "outputs": [],
   "source": [
    "import cv2\n",
    "import numpy as np\n",
    "import pandas as pd\n",
    "import pytesseract\n",
    "from pytesseract import image_to_string\n",
    "from googletrans import Translator"
   ]
  },
  {
   "cell_type": "code",
   "execution_count": 11,
   "metadata": {},
   "outputs": [],
   "source": [
    "def gettxt(str):\n",
    "    img = cv2.imread(str)\n",
    "    orignl_txt = pytesseract.image_to_string(img,lang='hin')\n",
    "    final_text = Translator().translate(orignl_txt,dest='en')\n",
    "    #trans_text = translator.translate(text,dest='en',src='hi')\n",
    "    print(\"The raw text extracted is :\\n\\n\\n\",orignl_txt)\n",
    "    print()\n",
    "    print(\"* - *\"*18)\n",
    "    print()\n",
    "    print(\"Here is the final extracted text in english :\\n\\n\\n\",final_text)"
   ]
  },
  {
   "cell_type": "code",
   "execution_count": 12,
   "metadata": {},
   "outputs": [
    {
     "name": "stdout",
     "output_type": "stream",
     "text": [
      "The raw text extracted is :\n",
      "\n",
      "\n",
      " ऑरिजिनल काँपी\n",
      "\n",
      "ळङाए। : १०००भ०र&रू क्वा\n",
      "सकरूपमल पदमचन्द #8××ॐॐ84\n",
      "धान मंडी नागौर (राज) 34!00। क्ताडा :वुडा\n",
      "\n",
      "राज\n",
      "\n",
      "टैलीफोन न:: 0582-240204\n",
      "\n",
      "सोलम्बर: 94742-40204 60\n",
      "\n",
      "विल न. १ <ङा-2559. . दिनांक : ०२०२२०५७ प्लेस ऑफ्र सप्लाई: ९%०जतत्मा (08)\n",
      "#० साकाकियिरण भमातर आगज लिलयूर एनश वसामूल सजज उतण क् ए)\n",
      "2, स्नि म०ङ 490 8७ समता वास स्वमतत: सस स सता\n",
      "\n",
      "म्हाषेग . र स०७\n",
      "\n",
      "2७ जासयायगरमाततततबभजानत/राजा&ट009000यगनयामजगनमशजर\n",
      "\n",
      "09686 व97) 078 प१०0७5भ 509९7 ॥9900@0 79070 00\n",
      "वास्ते सकरूपमल पदमचन्द\n",
      "\n",
      "पराप्तकर्ता के हस्ताक्षर\n",
      "अधिकृत हस्ताक्षर\n",
      "\n",
      "* - ** - ** - ** - ** - ** - ** - ** - ** - ** - ** - ** - ** - ** - ** - ** - ** - ** - *\n",
      "\n",
      "Here is the final extracted text in english :\n",
      "\n",
      "\n",
      " Translated(src=hi, dest=en, text=Original Kapi\n",
      "\n",
      "Ladaaa. 1000 BG 0 R & Rs Kwa\n",
      "Skrupml Pdmchand # 8 ×× 84\n",
      "Paddy market Nagaur (Raj) 34! 00. Ktada: Vuda\n",
      "\n",
      "secret\n",
      "\n",
      "Tel no :: 0582-240204\n",
      "\n",
      "Solmber: 94742-40204 60\n",
      "\n",
      "Will not. 1 <Daa -2559. . Date: 02022057 Place Ofr supply: 9% 0 Jttma (08)\n",
      "# 0 Sakakiyirn Bmatr Agaj Lilur Ans Vsamul Sjj Utn of A)\n",
      "2, Sni in 0 E 490 87 parity habitat Swmtt: nagging SS Number\n",
      "\n",
      "Mhaseg. R S 07\n",
      "\n",
      "27 Jasyaygrmattttbbjant / King & T 009 000 Ygnyamjagnmsjr\n",
      "\n",
      "09 686 and 97) 078 W 10075 RT 509 9 7 0.9900 @ 0 79070 00\n",
      "In order Skrupml Pdmchand\n",
      "\n",
      "Signature Praptkrta\n",
      "Authorized Signature, pronunciation=None, extra_data=\"{'translat...\")\n"
     ]
    }
   ],
   "source": [
    "gettxt(\"C:/Users/shiva/python programs/Basic projects/Thirdleap/Assignment/4.jpg\")"
   ]
  },
  {
   "cell_type": "code",
   "execution_count": null,
   "metadata": {},
   "outputs": [],
   "source": []
  },
  {
   "cell_type": "code",
   "execution_count": null,
   "metadata": {},
   "outputs": [],
   "source": []
  }
 ],
 "metadata": {
  "kernelspec": {
   "display_name": "Python 3",
   "language": "python",
   "name": "python3"
  },
  "language_info": {
   "codemirror_mode": {
    "name": "ipython",
    "version": 3
   },
   "file_extension": ".py",
   "mimetype": "text/x-python",
   "name": "python",
   "nbconvert_exporter": "python",
   "pygments_lexer": "ipython3",
   "version": "3.7.3"
  }
 },
 "nbformat": 4,
 "nbformat_minor": 2
}
